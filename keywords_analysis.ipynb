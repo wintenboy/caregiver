{
 "cells": [
  {
   "cell_type": "code",
   "execution_count": null,
   "metadata": {
    "collapsed": true
   },
   "outputs": [],
   "source": [
    "import pandas as pd\n",
    "import numpy as np\n",
    "import matplotlib.pyplot as plt\n",
    "\n",
    "\n",
    "def remove_whitespace(text):\n",
    "    return text.strip()\n",
    "\n",
    "\n",
    "def remove_period(text):\n",
    "    return text.replace(\".\", \"\")\n",
    "\n",
    "\n",
    "def one_hot_encode(sentence):\n",
    "    encoding = []\n",
    "    for keyword in cleaned_keywords:\n",
    "        if keyword in sentence:\n",
    "            encoding.append(1)\n",
    "        else:\n",
    "            encoding.append(0)\n",
    "    return encoding\n",
    "\n",
    "\n",
    "replacement_dict = {\n",
    "    \"XXXXX\": \"XXXXXXXX\",\n",
    "    \"XXXXXX\": \"XXXXXXXX\",\n",
    "    \"XXXX\": \"XXXXX\",\n",
    "    \"간병애\": \"간병인\",\n",
    "    \"감병\": \"간병\",\n",
    "    \"감병비\": \"간병비\",\n",
    "    \"XXXX\": \"XX\",\n",
    "    \"환자분\": \"환자\",\n",
    "    \"XX\": \"XXXXXX\",\n",
    "    \"자매\": \"자매님\",\n",
    "    \"형제\": \"형제님\",\n",
    "}\n",
    "\n",
    "df = pd.read_excel(\"keyword_df.xlsx\")\n",
    "keywords = set()\n",
    "for sentence in df[\"keyword\"]:\n",
    "    keywords.update(sentence.split(\", \"))\n",
    "keywords = sorted(list(keywords))\n",
    "\n",
    "cleaned_keywords = [remove_whitespace(keyword) for keyword in keywords]\n",
    "cleaned_keywords = [remove_period(keyword) for keyword in cleaned_keywords]\n",
    "for i in range(len(cleaned_keywords)):\n",
    "    if cleaned_keywords[i] in replacement_dict:\n",
    "        cleaned_keywords[i] = replacement_dict[cleaned_keywords[i]]\n",
    "encoded_data = [one_hot_encode(sentence) for sentence in cleaned_keywords]\n",
    "encoded_df = pd.DataFrame(encoded_data, columns=cleaned_keywords)\n",
    "\n",
    "keyword_counts = encoded_df.sum()\n",
    "\n",
    "plt.figure(figsize=(20, 10))\n",
    "plt.bar(keyword_counts.index, keyword_counts.values)\n",
    "plt.xlabel(\"keywords\")\n",
    "plt.ylabel(\"Term Frequency\")\n",
    "plt.xticks(rotation=90)\n",
    "plt.show()"
   ]
  }
 ],
 "metadata": {
  "kernelspec": {
   "display_name": "Python 3",
   "language": "python",
   "name": "python3"
  },
  "language_info": {
   "codemirror_mode": {
    "name": "ipython",
    "version": 2
   },
   "file_extension": ".py",
   "mimetype": "text/x-python",
   "name": "python",
   "nbconvert_exporter": "python",
   "pygments_lexer": "ipython2",
   "version": "2.7.6"
  }
 },
 "nbformat": 4,
 "nbformat_minor": 0
}
